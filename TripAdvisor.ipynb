{
  "cells": [
    {
      "cell_type": "markdown",
      "metadata": {
        "id": "view-in-github",
        "colab_type": "text"
      },
      "source": [
        "<a href=\"https://colab.research.google.com/github/iMarupakula/iMarupakula/blob/main/TripAdvisor.ipynb\" target=\"_parent\"><img src=\"https://colab.research.google.com/assets/colab-badge.svg\" alt=\"Open In Colab\"/></a>"
      ]
    },
    {
      "cell_type": "code",
      "source": [
        "# utilities\n",
        "import re\n",
        "import numpy as np\n",
        "import pandas as pd"
      ],
      "metadata": {
        "id": "8HJ1koeWa9gf"
      },
      "execution_count": null,
      "outputs": []
    },
    {
      "cell_type": "code",
      "source": [
        "df = pd.read_csv('/content/drive/MyDrive/Uni_Project/London_reviews.csv')\n",
        "df.sample(5)"
      ],
      "metadata": {
        "colab": {
          "base_uri": "https://localhost:8080/",
          "height": 669
        },
        "id": "wNjmCd6MbCZb",
        "outputId": "a9d228a8-0cf0-4aeb-e0a9-f82b12969e75"
      },
      "execution_count": null,
      "outputs": [
        {
          "output_type": "stream",
          "name": "stderr",
          "text": [
            "<ipython-input-7-7eed06b71d92>:1: DtypeWarning: Columns (0,1,3) have mixed types. Specify dtype option on import or set low_memory=False.\n",
            "  df = pd.read_csv('/content/drive/MyDrive/Uni_Project/London_reviews.csv')\n"
          ]
        },
        {
          "output_type": "execute_result",
          "data": {
            "text/plain": [
              "       Unnamed: 0 parse_count                  restaurant_name rating_review  \\\n",
              "521632     523274      523275                     ROKA_Mayfair           4.0   \n",
              "302034     302917      302918  Sketch_Lecture_Room_and_Library           2.0   \n",
              "838119     840983      840984                Cecconi_s_Mayfair           5.0   \n",
              "560409     562218      562219              Dirty_Bones_Carnaby           4.0   \n",
              "632222     634263      634264                       Veeraswamy           4.0   \n",
              "\n",
              "          sample         review_id  \\\n",
              "521632  Positive  review_426037115   \n",
              "302034  Negative  review_187544354   \n",
              "838119  Positive  review_226739111   \n",
              "560409  Positive  review_449519883   \n",
              "632222  Positive  review_155479027   \n",
              "\n",
              "                                             title_review  \\\n",
              "521632    Posh and limited but good selection of veg food   \n",
              "302034  terrible attitude when we found a hair in our ...   \n",
              "838119                              Burrata to die for!!!   \n",
              "560409                           Great pre-Pantomime spot   \n",
              "632222           Fantastic lunch - great food and service   \n",
              "\n",
              "                                           review_preview  \\\n",
              "521632  Ambience and food were good.. But they should ...   \n",
              "302034  My wife and I treated ourselves to a posh meal...   \n",
              "838119  We splurged for an excellent, trendy meal whil...   \n",
              "560409  I'd eaten at Dirty Bones in Kensington before,...   \n",
              "632222  Had a long, very enjoyable lunch here on Satur...   \n",
              "\n",
              "                                              review_full               date  \\\n",
              "521632  Ambience and food were good.. But they should ...    October 8, 2016   \n",
              "302034  My wife and I treated ourselves to a posh meal...  December 13, 2013   \n",
              "838119  We splurged for an excellent, trendy meal whil...  September 3, 2014   \n",
              "560409  I'd eaten at Dirty Bones in Kensington before,...    January 5, 2017   \n",
              "632222  Had a long, very enjoyable lunch here on Satur...     March 24, 2013   \n",
              "\n",
              "                  city                                     url_restaurant  \\\n",
              "521632  London_England  https://www.tripadvisor.com/Restaurant_Review-...   \n",
              "302034  London_England  https://www.tripadvisor.com/Restaurant_Review-...   \n",
              "838119  London_England  https://www.tripadvisor.com/Restaurant_Review-...   \n",
              "560409  London_England  https://www.tripadvisor.com/Restaurant_Review-...   \n",
              "632222  London_England  https://www.tripadvisor.com/Restaurant_Review-...   \n",
              "\n",
              "         author_id  \n",
              "521632  UID_287773  \n",
              "302034  UID_207530  \n",
              "838119  UID_386592  \n",
              "560409   UID_32399  \n",
              "632222   UID_13004  "
            ],
            "text/html": [
              "\n",
              "  <div id=\"df-bf516c84-e3de-404b-97c7-f690f09eaa39\">\n",
              "    <div class=\"colab-df-container\">\n",
              "      <div>\n",
              "<style scoped>\n",
              "    .dataframe tbody tr th:only-of-type {\n",
              "        vertical-align: middle;\n",
              "    }\n",
              "\n",
              "    .dataframe tbody tr th {\n",
              "        vertical-align: top;\n",
              "    }\n",
              "\n",
              "    .dataframe thead th {\n",
              "        text-align: right;\n",
              "    }\n",
              "</style>\n",
              "<table border=\"1\" class=\"dataframe\">\n",
              "  <thead>\n",
              "    <tr style=\"text-align: right;\">\n",
              "      <th></th>\n",
              "      <th>Unnamed: 0</th>\n",
              "      <th>parse_count</th>\n",
              "      <th>restaurant_name</th>\n",
              "      <th>rating_review</th>\n",
              "      <th>sample</th>\n",
              "      <th>review_id</th>\n",
              "      <th>title_review</th>\n",
              "      <th>review_preview</th>\n",
              "      <th>review_full</th>\n",
              "      <th>date</th>\n",
              "      <th>city</th>\n",
              "      <th>url_restaurant</th>\n",
              "      <th>author_id</th>\n",
              "    </tr>\n",
              "  </thead>\n",
              "  <tbody>\n",
              "    <tr>\n",
              "      <th>521632</th>\n",
              "      <td>523274</td>\n",
              "      <td>523275</td>\n",
              "      <td>ROKA_Mayfair</td>\n",
              "      <td>4.0</td>\n",
              "      <td>Positive</td>\n",
              "      <td>review_426037115</td>\n",
              "      <td>Posh and limited but good selection of veg food</td>\n",
              "      <td>Ambience and food were good.. But they should ...</td>\n",
              "      <td>Ambience and food were good.. But they should ...</td>\n",
              "      <td>October 8, 2016</td>\n",
              "      <td>London_England</td>\n",
              "      <td>https://www.tripadvisor.com/Restaurant_Review-...</td>\n",
              "      <td>UID_287773</td>\n",
              "    </tr>\n",
              "    <tr>\n",
              "      <th>302034</th>\n",
              "      <td>302917</td>\n",
              "      <td>302918</td>\n",
              "      <td>Sketch_Lecture_Room_and_Library</td>\n",
              "      <td>2.0</td>\n",
              "      <td>Negative</td>\n",
              "      <td>review_187544354</td>\n",
              "      <td>terrible attitude when we found a hair in our ...</td>\n",
              "      <td>My wife and I treated ourselves to a posh meal...</td>\n",
              "      <td>My wife and I treated ourselves to a posh meal...</td>\n",
              "      <td>December 13, 2013</td>\n",
              "      <td>London_England</td>\n",
              "      <td>https://www.tripadvisor.com/Restaurant_Review-...</td>\n",
              "      <td>UID_207530</td>\n",
              "    </tr>\n",
              "    <tr>\n",
              "      <th>838119</th>\n",
              "      <td>840983</td>\n",
              "      <td>840984</td>\n",
              "      <td>Cecconi_s_Mayfair</td>\n",
              "      <td>5.0</td>\n",
              "      <td>Positive</td>\n",
              "      <td>review_226739111</td>\n",
              "      <td>Burrata to die for!!!</td>\n",
              "      <td>We splurged for an excellent, trendy meal whil...</td>\n",
              "      <td>We splurged for an excellent, trendy meal whil...</td>\n",
              "      <td>September 3, 2014</td>\n",
              "      <td>London_England</td>\n",
              "      <td>https://www.tripadvisor.com/Restaurant_Review-...</td>\n",
              "      <td>UID_386592</td>\n",
              "    </tr>\n",
              "    <tr>\n",
              "      <th>560409</th>\n",
              "      <td>562218</td>\n",
              "      <td>562219</td>\n",
              "      <td>Dirty_Bones_Carnaby</td>\n",
              "      <td>4.0</td>\n",
              "      <td>Positive</td>\n",
              "      <td>review_449519883</td>\n",
              "      <td>Great pre-Pantomime spot</td>\n",
              "      <td>I'd eaten at Dirty Bones in Kensington before,...</td>\n",
              "      <td>I'd eaten at Dirty Bones in Kensington before,...</td>\n",
              "      <td>January 5, 2017</td>\n",
              "      <td>London_England</td>\n",
              "      <td>https://www.tripadvisor.com/Restaurant_Review-...</td>\n",
              "      <td>UID_32399</td>\n",
              "    </tr>\n",
              "    <tr>\n",
              "      <th>632222</th>\n",
              "      <td>634263</td>\n",
              "      <td>634264</td>\n",
              "      <td>Veeraswamy</td>\n",
              "      <td>4.0</td>\n",
              "      <td>Positive</td>\n",
              "      <td>review_155479027</td>\n",
              "      <td>Fantastic lunch - great food and service</td>\n",
              "      <td>Had a long, very enjoyable lunch here on Satur...</td>\n",
              "      <td>Had a long, very enjoyable lunch here on Satur...</td>\n",
              "      <td>March 24, 2013</td>\n",
              "      <td>London_England</td>\n",
              "      <td>https://www.tripadvisor.com/Restaurant_Review-...</td>\n",
              "      <td>UID_13004</td>\n",
              "    </tr>\n",
              "  </tbody>\n",
              "</table>\n",
              "</div>\n",
              "      <button class=\"colab-df-convert\" onclick=\"convertToInteractive('df-bf516c84-e3de-404b-97c7-f690f09eaa39')\"\n",
              "              title=\"Convert this dataframe to an interactive table.\"\n",
              "              style=\"display:none;\">\n",
              "        \n",
              "  <svg xmlns=\"http://www.w3.org/2000/svg\" height=\"24px\"viewBox=\"0 0 24 24\"\n",
              "       width=\"24px\">\n",
              "    <path d=\"M0 0h24v24H0V0z\" fill=\"none\"/>\n",
              "    <path d=\"M18.56 5.44l.94 2.06.94-2.06 2.06-.94-2.06-.94-.94-2.06-.94 2.06-2.06.94zm-11 1L8.5 8.5l.94-2.06 2.06-.94-2.06-.94L8.5 2.5l-.94 2.06-2.06.94zm10 10l.94 2.06.94-2.06 2.06-.94-2.06-.94-.94-2.06-.94 2.06-2.06.94z\"/><path d=\"M17.41 7.96l-1.37-1.37c-.4-.4-.92-.59-1.43-.59-.52 0-1.04.2-1.43.59L10.3 9.45l-7.72 7.72c-.78.78-.78 2.05 0 2.83L4 21.41c.39.39.9.59 1.41.59.51 0 1.02-.2 1.41-.59l7.78-7.78 2.81-2.81c.8-.78.8-2.07 0-2.86zM5.41 20L4 18.59l7.72-7.72 1.47 1.35L5.41 20z\"/>\n",
              "  </svg>\n",
              "      </button>\n",
              "      \n",
              "  <style>\n",
              "    .colab-df-container {\n",
              "      display:flex;\n",
              "      flex-wrap:wrap;\n",
              "      gap: 12px;\n",
              "    }\n",
              "\n",
              "    .colab-df-convert {\n",
              "      background-color: #E8F0FE;\n",
              "      border: none;\n",
              "      border-radius: 50%;\n",
              "      cursor: pointer;\n",
              "      display: none;\n",
              "      fill: #1967D2;\n",
              "      height: 32px;\n",
              "      padding: 0 0 0 0;\n",
              "      width: 32px;\n",
              "    }\n",
              "\n",
              "    .colab-df-convert:hover {\n",
              "      background-color: #E2EBFA;\n",
              "      box-shadow: 0px 1px 2px rgba(60, 64, 67, 0.3), 0px 1px 3px 1px rgba(60, 64, 67, 0.15);\n",
              "      fill: #174EA6;\n",
              "    }\n",
              "\n",
              "    [theme=dark] .colab-df-convert {\n",
              "      background-color: #3B4455;\n",
              "      fill: #D2E3FC;\n",
              "    }\n",
              "\n",
              "    [theme=dark] .colab-df-convert:hover {\n",
              "      background-color: #434B5C;\n",
              "      box-shadow: 0px 1px 3px 1px rgba(0, 0, 0, 0.15);\n",
              "      filter: drop-shadow(0px 1px 2px rgba(0, 0, 0, 0.3));\n",
              "      fill: #FFFFFF;\n",
              "    }\n",
              "  </style>\n",
              "\n",
              "      <script>\n",
              "        const buttonEl =\n",
              "          document.querySelector('#df-bf516c84-e3de-404b-97c7-f690f09eaa39 button.colab-df-convert');\n",
              "        buttonEl.style.display =\n",
              "          google.colab.kernel.accessAllowed ? 'block' : 'none';\n",
              "\n",
              "        async function convertToInteractive(key) {\n",
              "          const element = document.querySelector('#df-bf516c84-e3de-404b-97c7-f690f09eaa39');\n",
              "          const dataTable =\n",
              "            await google.colab.kernel.invokeFunction('convertToInteractive',\n",
              "                                                     [key], {});\n",
              "          if (!dataTable) return;\n",
              "\n",
              "          const docLinkHtml = 'Like what you see? Visit the ' +\n",
              "            '<a target=\"_blank\" href=https://colab.research.google.com/notebooks/data_table.ipynb>data table notebook</a>'\n",
              "            + ' to learn more about interactive tables.';\n",
              "          element.innerHTML = '';\n",
              "          dataTable['output_type'] = 'display_data';\n",
              "          await google.colab.output.renderOutput(dataTable, element);\n",
              "          const docLink = document.createElement('div');\n",
              "          docLink.innerHTML = docLinkHtml;\n",
              "          element.appendChild(docLink);\n",
              "        }\n",
              "      </script>\n",
              "    </div>\n",
              "  </div>\n",
              "  "
            ]
          },
          "metadata": {},
          "execution_count": 7
        }
      ]
    },
    {
      "cell_type": "code",
      "source": [
        "df.head()"
      ],
      "metadata": {
        "colab": {
          "base_uri": "https://localhost:8080/",
          "height": 617
        },
        "id": "UnEA6KH8iotK",
        "outputId": "35673565-7352-42f4-d36d-7048efe864d4"
      },
      "execution_count": null,
      "outputs": [
        {
          "output_type": "execute_result",
          "data": {
            "text/plain": [
              "  Unnamed: 0 parse_count       restaurant_name rating_review    sample  \\\n",
              "0          0           1  Cocotte_Notting_Hill           5.0  Positive   \n",
              "1          1           2  Cocotte_Notting_Hill           5.0  Positive   \n",
              "2          2           3  Cocotte_Notting_Hill           5.0  Positive   \n",
              "3          3           4  Cocotte_Notting_Hill           5.0  Positive   \n",
              "4          4           5  Cocotte_Notting_Hill           5.0  Positive   \n",
              "\n",
              "          review_id                                       title_review  \\\n",
              "0  review_771556136                                       JUST PERFECT   \n",
              "1  review_771555883  Quality food, Food travels well, Excellent cus...   \n",
              "2  review_770716943                        Came here because we missed   \n",
              "3  review_770027676                                      Great service   \n",
              "4  review_766307138                 𝓔𝔁𝓬𝓮𝓵𝓵𝓮𝓷𝓽 𝓕𝓪𝓻𝓶-𝓽𝓸-𝓣𝓪𝓫𝓵𝓮 𝓡𝓸𝓽𝓲𝓼𝓼𝓮𝓻𝓲𝓮   \n",
              "\n",
              "                                      review_preview  \\\n",
              "0  I was away for couple of months and  I am so h...   \n",
              "1  I recently ordered over the phone from Cocotte...   \n",
              "2  Came here because we missed our table at Farma...   \n",
              "3  My first time in cocotte and was amazed by how...   \n",
              "4  A healthy-homemade dishes using farm-grown ing...   \n",
              "\n",
              "                                         review_full                date  \\\n",
              "0  I was away for couple of months and I am so ha...  September 23, 2020   \n",
              "1  I recently ordered over the phone from Cocotte...  September 23, 2020   \n",
              "2  Came here because we missed our table at Farma...  September 17, 2020   \n",
              "3  My first time in cocotte and was amazed by how...  September 12, 2020   \n",
              "4  A healthy-homemade dishes using farm-grown ing...     August 22, 2020   \n",
              "\n",
              "             city                                     url_restaurant author_id  \n",
              "0  London_England  https://www.tripadvisor.com/Restaurant_Review-...     UID_0  \n",
              "1  London_England  https://www.tripadvisor.com/Restaurant_Review-...     UID_1  \n",
              "2  London_England  https://www.tripadvisor.com/Restaurant_Review-...     UID_2  \n",
              "3  London_England  https://www.tripadvisor.com/Restaurant_Review-...     UID_3  \n",
              "4  London_England  https://www.tripadvisor.com/Restaurant_Review-...     UID_4  "
            ],
            "text/html": [
              "\n",
              "  <div id=\"df-8399c357-0c7c-4830-9126-92f41e2fa090\">\n",
              "    <div class=\"colab-df-container\">\n",
              "      <div>\n",
              "<style scoped>\n",
              "    .dataframe tbody tr th:only-of-type {\n",
              "        vertical-align: middle;\n",
              "    }\n",
              "\n",
              "    .dataframe tbody tr th {\n",
              "        vertical-align: top;\n",
              "    }\n",
              "\n",
              "    .dataframe thead th {\n",
              "        text-align: right;\n",
              "    }\n",
              "</style>\n",
              "<table border=\"1\" class=\"dataframe\">\n",
              "  <thead>\n",
              "    <tr style=\"text-align: right;\">\n",
              "      <th></th>\n",
              "      <th>Unnamed: 0</th>\n",
              "      <th>parse_count</th>\n",
              "      <th>restaurant_name</th>\n",
              "      <th>rating_review</th>\n",
              "      <th>sample</th>\n",
              "      <th>review_id</th>\n",
              "      <th>title_review</th>\n",
              "      <th>review_preview</th>\n",
              "      <th>review_full</th>\n",
              "      <th>date</th>\n",
              "      <th>city</th>\n",
              "      <th>url_restaurant</th>\n",
              "      <th>author_id</th>\n",
              "    </tr>\n",
              "  </thead>\n",
              "  <tbody>\n",
              "    <tr>\n",
              "      <th>0</th>\n",
              "      <td>0</td>\n",
              "      <td>1</td>\n",
              "      <td>Cocotte_Notting_Hill</td>\n",
              "      <td>5.0</td>\n",
              "      <td>Positive</td>\n",
              "      <td>review_771556136</td>\n",
              "      <td>JUST PERFECT</td>\n",
              "      <td>I was away for couple of months and  I am so h...</td>\n",
              "      <td>I was away for couple of months and I am so ha...</td>\n",
              "      <td>September 23, 2020</td>\n",
              "      <td>London_England</td>\n",
              "      <td>https://www.tripadvisor.com/Restaurant_Review-...</td>\n",
              "      <td>UID_0</td>\n",
              "    </tr>\n",
              "    <tr>\n",
              "      <th>1</th>\n",
              "      <td>1</td>\n",
              "      <td>2</td>\n",
              "      <td>Cocotte_Notting_Hill</td>\n",
              "      <td>5.0</td>\n",
              "      <td>Positive</td>\n",
              "      <td>review_771555883</td>\n",
              "      <td>Quality food, Food travels well, Excellent cus...</td>\n",
              "      <td>I recently ordered over the phone from Cocotte...</td>\n",
              "      <td>I recently ordered over the phone from Cocotte...</td>\n",
              "      <td>September 23, 2020</td>\n",
              "      <td>London_England</td>\n",
              "      <td>https://www.tripadvisor.com/Restaurant_Review-...</td>\n",
              "      <td>UID_1</td>\n",
              "    </tr>\n",
              "    <tr>\n",
              "      <th>2</th>\n",
              "      <td>2</td>\n",
              "      <td>3</td>\n",
              "      <td>Cocotte_Notting_Hill</td>\n",
              "      <td>5.0</td>\n",
              "      <td>Positive</td>\n",
              "      <td>review_770716943</td>\n",
              "      <td>Came here because we missed</td>\n",
              "      <td>Came here because we missed our table at Farma...</td>\n",
              "      <td>Came here because we missed our table at Farma...</td>\n",
              "      <td>September 17, 2020</td>\n",
              "      <td>London_England</td>\n",
              "      <td>https://www.tripadvisor.com/Restaurant_Review-...</td>\n",
              "      <td>UID_2</td>\n",
              "    </tr>\n",
              "    <tr>\n",
              "      <th>3</th>\n",
              "      <td>3</td>\n",
              "      <td>4</td>\n",
              "      <td>Cocotte_Notting_Hill</td>\n",
              "      <td>5.0</td>\n",
              "      <td>Positive</td>\n",
              "      <td>review_770027676</td>\n",
              "      <td>Great service</td>\n",
              "      <td>My first time in cocotte and was amazed by how...</td>\n",
              "      <td>My first time in cocotte and was amazed by how...</td>\n",
              "      <td>September 12, 2020</td>\n",
              "      <td>London_England</td>\n",
              "      <td>https://www.tripadvisor.com/Restaurant_Review-...</td>\n",
              "      <td>UID_3</td>\n",
              "    </tr>\n",
              "    <tr>\n",
              "      <th>4</th>\n",
              "      <td>4</td>\n",
              "      <td>5</td>\n",
              "      <td>Cocotte_Notting_Hill</td>\n",
              "      <td>5.0</td>\n",
              "      <td>Positive</td>\n",
              "      <td>review_766307138</td>\n",
              "      <td>𝓔𝔁𝓬𝓮𝓵𝓵𝓮𝓷𝓽 𝓕𝓪𝓻𝓶-𝓽𝓸-𝓣𝓪𝓫𝓵𝓮 𝓡𝓸𝓽𝓲𝓼𝓼𝓮𝓻𝓲𝓮</td>\n",
              "      <td>A healthy-homemade dishes using farm-grown ing...</td>\n",
              "      <td>A healthy-homemade dishes using farm-grown ing...</td>\n",
              "      <td>August 22, 2020</td>\n",
              "      <td>London_England</td>\n",
              "      <td>https://www.tripadvisor.com/Restaurant_Review-...</td>\n",
              "      <td>UID_4</td>\n",
              "    </tr>\n",
              "  </tbody>\n",
              "</table>\n",
              "</div>\n",
              "      <button class=\"colab-df-convert\" onclick=\"convertToInteractive('df-8399c357-0c7c-4830-9126-92f41e2fa090')\"\n",
              "              title=\"Convert this dataframe to an interactive table.\"\n",
              "              style=\"display:none;\">\n",
              "        \n",
              "  <svg xmlns=\"http://www.w3.org/2000/svg\" height=\"24px\"viewBox=\"0 0 24 24\"\n",
              "       width=\"24px\">\n",
              "    <path d=\"M0 0h24v24H0V0z\" fill=\"none\"/>\n",
              "    <path d=\"M18.56 5.44l.94 2.06.94-2.06 2.06-.94-2.06-.94-.94-2.06-.94 2.06-2.06.94zm-11 1L8.5 8.5l.94-2.06 2.06-.94-2.06-.94L8.5 2.5l-.94 2.06-2.06.94zm10 10l.94 2.06.94-2.06 2.06-.94-2.06-.94-.94-2.06-.94 2.06-2.06.94z\"/><path d=\"M17.41 7.96l-1.37-1.37c-.4-.4-.92-.59-1.43-.59-.52 0-1.04.2-1.43.59L10.3 9.45l-7.72 7.72c-.78.78-.78 2.05 0 2.83L4 21.41c.39.39.9.59 1.41.59.51 0 1.02-.2 1.41-.59l7.78-7.78 2.81-2.81c.8-.78.8-2.07 0-2.86zM5.41 20L4 18.59l7.72-7.72 1.47 1.35L5.41 20z\"/>\n",
              "  </svg>\n",
              "      </button>\n",
              "      \n",
              "  <style>\n",
              "    .colab-df-container {\n",
              "      display:flex;\n",
              "      flex-wrap:wrap;\n",
              "      gap: 12px;\n",
              "    }\n",
              "\n",
              "    .colab-df-convert {\n",
              "      background-color: #E8F0FE;\n",
              "      border: none;\n",
              "      border-radius: 50%;\n",
              "      cursor: pointer;\n",
              "      display: none;\n",
              "      fill: #1967D2;\n",
              "      height: 32px;\n",
              "      padding: 0 0 0 0;\n",
              "      width: 32px;\n",
              "    }\n",
              "\n",
              "    .colab-df-convert:hover {\n",
              "      background-color: #E2EBFA;\n",
              "      box-shadow: 0px 1px 2px rgba(60, 64, 67, 0.3), 0px 1px 3px 1px rgba(60, 64, 67, 0.15);\n",
              "      fill: #174EA6;\n",
              "    }\n",
              "\n",
              "    [theme=dark] .colab-df-convert {\n",
              "      background-color: #3B4455;\n",
              "      fill: #D2E3FC;\n",
              "    }\n",
              "\n",
              "    [theme=dark] .colab-df-convert:hover {\n",
              "      background-color: #434B5C;\n",
              "      box-shadow: 0px 1px 3px 1px rgba(0, 0, 0, 0.15);\n",
              "      filter: drop-shadow(0px 1px 2px rgba(0, 0, 0, 0.3));\n",
              "      fill: #FFFFFF;\n",
              "    }\n",
              "  </style>\n",
              "\n",
              "      <script>\n",
              "        const buttonEl =\n",
              "          document.querySelector('#df-8399c357-0c7c-4830-9126-92f41e2fa090 button.colab-df-convert');\n",
              "        buttonEl.style.display =\n",
              "          google.colab.kernel.accessAllowed ? 'block' : 'none';\n",
              "\n",
              "        async function convertToInteractive(key) {\n",
              "          const element = document.querySelector('#df-8399c357-0c7c-4830-9126-92f41e2fa090');\n",
              "          const dataTable =\n",
              "            await google.colab.kernel.invokeFunction('convertToInteractive',\n",
              "                                                     [key], {});\n",
              "          if (!dataTable) return;\n",
              "\n",
              "          const docLinkHtml = 'Like what you see? Visit the ' +\n",
              "            '<a target=\"_blank\" href=https://colab.research.google.com/notebooks/data_table.ipynb>data table notebook</a>'\n",
              "            + ' to learn more about interactive tables.';\n",
              "          element.innerHTML = '';\n",
              "          dataTable['output_type'] = 'display_data';\n",
              "          await google.colab.output.renderOutput(dataTable, element);\n",
              "          const docLink = document.createElement('div');\n",
              "          docLink.innerHTML = docLinkHtml;\n",
              "          element.appendChild(docLink);\n",
              "        }\n",
              "      </script>\n",
              "    </div>\n",
              "  </div>\n",
              "  "
            ]
          },
          "metadata": {},
          "execution_count": 8
        }
      ]
    },
    {
      "cell_type": "code",
      "source": [
        "df.columns"
      ],
      "metadata": {
        "colab": {
          "base_uri": "https://localhost:8080/"
        },
        "id": "zOzRNgQKitHt",
        "outputId": "5371050a-4388-460d-ff27-45694562a07d"
      },
      "execution_count": null,
      "outputs": [
        {
          "output_type": "execute_result",
          "data": {
            "text/plain": [
              "Index(['Unnamed: 0', 'parse_count', 'restaurant_name', 'rating_review',\n",
              "       'sample', 'review_id', 'title_review', 'review_preview', 'review_full',\n",
              "       'date', 'city', 'url_restaurant', 'author_id'],\n",
              "      dtype='object')"
            ]
          },
          "metadata": {},
          "execution_count": 9
        }
      ]
    },
    {
      "cell_type": "code",
      "source": [
        "print('length of data is', len(df))"
      ],
      "metadata": {
        "colab": {
          "base_uri": "https://localhost:8080/"
        },
        "id": "6FS-xEKOjHhX",
        "outputId": "64e5bc2a-2908-49c9-acab-98f33292ca9a"
      },
      "execution_count": null,
      "outputs": [
        {
          "output_type": "stream",
          "name": "stdout",
          "text": [
            "length of data is 996567\n"
          ]
        }
      ]
    },
    {
      "cell_type": "code",
      "source": [
        "df.shape"
      ],
      "metadata": {
        "colab": {
          "base_uri": "https://localhost:8080/"
        },
        "id": "-oQSfJkBjNh6",
        "outputId": "6fdce347-d2db-451b-93c5-afbada0c0a65"
      },
      "execution_count": null,
      "outputs": [
        {
          "output_type": "execute_result",
          "data": {
            "text/plain": [
              "(996567, 13)"
            ]
          },
          "metadata": {},
          "execution_count": 11
        }
      ]
    },
    {
      "cell_type": "code",
      "source": [
        "df.info() #df.describe()"
      ],
      "metadata": {
        "colab": {
          "base_uri": "https://localhost:8080/"
        },
        "id": "UG4jd6K7jP_P",
        "outputId": "f0fbc741-4b5d-4abd-d573-1300b8d85357"
      },
      "execution_count": null,
      "outputs": [
        {
          "output_type": "stream",
          "name": "stdout",
          "text": [
            "<class 'pandas.core.frame.DataFrame'>\n",
            "RangeIndex: 996567 entries, 0 to 996566\n",
            "Data columns (total 13 columns):\n",
            " #   Column           Non-Null Count   Dtype \n",
            "---  ------           --------------   ----- \n",
            " 0   Unnamed: 0       996567 non-null  object\n",
            " 1   parse_count      996558 non-null  object\n",
            " 2   restaurant_name  996558 non-null  object\n",
            " 3   rating_review    996558 non-null  object\n",
            " 4   sample           996558 non-null  object\n",
            " 5   review_id        996558 non-null  object\n",
            " 6   title_review     996552 non-null  object\n",
            " 7   review_preview   996552 non-null  object\n",
            " 8   review_full      996546 non-null  object\n",
            " 9   date             996546 non-null  object\n",
            " 10  city             996546 non-null  object\n",
            " 11  url_restaurant   996546 non-null  object\n",
            " 12  author_id        996546 non-null  object\n",
            "dtypes: object(13)\n",
            "memory usage: 98.8+ MB\n"
          ]
        }
      ]
    },
    {
      "cell_type": "code",
      "source": [
        "df.dtypes"
      ],
      "metadata": {
        "colab": {
          "base_uri": "https://localhost:8080/"
        },
        "id": "RmQUkzkDkNo3",
        "outputId": "40d732a1-7d90-42a0-ee99-267352c25e2e"
      },
      "execution_count": null,
      "outputs": [
        {
          "output_type": "execute_result",
          "data": {
            "text/plain": [
              "Unnamed: 0         object\n",
              "parse_count        object\n",
              "restaurant_name    object\n",
              "rating_review      object\n",
              "sample             object\n",
              "review_id          object\n",
              "title_review       object\n",
              "review_preview     object\n",
              "review_full        object\n",
              "date               object\n",
              "city               object\n",
              "url_restaurant     object\n",
              "author_id          object\n",
              "dtype: object"
            ]
          },
          "metadata": {},
          "execution_count": 15
        }
      ]
    },
    {
      "cell_type": "code",
      "source": [
        "np.sum(df.isnull().any(axis=1))"
      ],
      "metadata": {
        "colab": {
          "base_uri": "https://localhost:8080/"
        },
        "id": "4hoo5RgHkaWx",
        "outputId": "9ea7d274-01ec-49d6-9b8d-b944607af6ea"
      },
      "execution_count": null,
      "outputs": [
        {
          "output_type": "execute_result",
          "data": {
            "text/plain": [
              "21"
            ]
          },
          "metadata": {},
          "execution_count": 16
        }
      ]
    },
    {
      "cell_type": "code",
      "source": [
        "df.isnull().sum()"
      ],
      "metadata": {
        "colab": {
          "base_uri": "https://localhost:8080/"
        },
        "id": "es7zsBqCkgfH",
        "outputId": "f6acba31-cf58-4b8c-b05f-8458fc917acf"
      },
      "execution_count": null,
      "outputs": [
        {
          "output_type": "execute_result",
          "data": {
            "text/plain": [
              "Unnamed: 0          0\n",
              "parse_count         9\n",
              "restaurant_name     9\n",
              "rating_review       9\n",
              "sample              9\n",
              "review_id           9\n",
              "title_review       15\n",
              "review_preview     15\n",
              "review_full        21\n",
              "date               21\n",
              "city               21\n",
              "url_restaurant     21\n",
              "author_id          21\n",
              "dtype: int64"
            ]
          },
          "metadata": {},
          "execution_count": 17
        }
      ]
    },
    {
      "cell_type": "code",
      "source": [
        "df.duplicated().sum()"
      ],
      "metadata": {
        "colab": {
          "base_uri": "https://localhost:8080/"
        },
        "id": "bD91GP0Nkr-H",
        "outputId": "3d6cac8d-2522-473a-a21a-e47ab11bde57"
      },
      "execution_count": null,
      "outputs": [
        {
          "output_type": "execute_result",
          "data": {
            "text/plain": [
              "0"
            ]
          },
          "metadata": {},
          "execution_count": 18
        }
      ]
    },
    {
      "cell_type": "code",
      "source": [
        "df.describe().T"
      ],
      "metadata": {
        "colab": {
          "base_uri": "https://localhost:8080/",
          "height": 457
        },
        "id": "CqHyvAFBk84q",
        "outputId": "c076ec31-ba5e-46af-c624-81e608a5ca56"
      },
      "execution_count": null,
      "outputs": [
        {
          "output_type": "execute_result",
          "data": {
            "text/plain": [
              "                    count  unique  \\\n",
              "Unnamed: 0         996567  996567   \n",
              "parse_count        996558  996558   \n",
              "restaurant_name    996558    1833   \n",
              "rating_review    996558.0    11.0   \n",
              "sample             996558       8   \n",
              "review_id          996558  996556   \n",
              "title_review       996552  649951   \n",
              "review_preview     996552  996189   \n",
              "review_full        996546  996253   \n",
              "date               996546    4591   \n",
              "city               996546       1   \n",
              "url_restaurant     996546  100736   \n",
              "author_id          996546  502226   \n",
              "\n",
              "                                                               top      freq  \n",
              "Unnamed: 0                                                       0         1  \n",
              "parse_count                                                      1         1  \n",
              "restaurant_name             Oxo_Tower_Restaurant_Bar_and_Brasserie      7018  \n",
              "rating_review                                                  5.0  431563.0  \n",
              "sample                                                    Positive    831692  \n",
              "review_id                                         review_761525247         2  \n",
              "title_review                                             Excellent      3873  \n",
              "review_preview   If you are looking for the fantastic rib eye o...         3  \n",
              "review_full      Except for waiting in a long line... the taste...         3  \n",
              "date                                             February 13, 2017       960  \n",
              "city                                                London_England    996546  \n",
              "url_restaurant   https://www.tripadvisor.com/Restaurant_Review-...        10  \n",
              "author_id                                                 UID_3787       368  "
            ],
            "text/html": [
              "\n",
              "  <div id=\"df-fa5de4d1-ee15-4f08-8f26-9ebb0e96d143\">\n",
              "    <div class=\"colab-df-container\">\n",
              "      <div>\n",
              "<style scoped>\n",
              "    .dataframe tbody tr th:only-of-type {\n",
              "        vertical-align: middle;\n",
              "    }\n",
              "\n",
              "    .dataframe tbody tr th {\n",
              "        vertical-align: top;\n",
              "    }\n",
              "\n",
              "    .dataframe thead th {\n",
              "        text-align: right;\n",
              "    }\n",
              "</style>\n",
              "<table border=\"1\" class=\"dataframe\">\n",
              "  <thead>\n",
              "    <tr style=\"text-align: right;\">\n",
              "      <th></th>\n",
              "      <th>count</th>\n",
              "      <th>unique</th>\n",
              "      <th>top</th>\n",
              "      <th>freq</th>\n",
              "    </tr>\n",
              "  </thead>\n",
              "  <tbody>\n",
              "    <tr>\n",
              "      <th>Unnamed: 0</th>\n",
              "      <td>996567</td>\n",
              "      <td>996567</td>\n",
              "      <td>0</td>\n",
              "      <td>1</td>\n",
              "    </tr>\n",
              "    <tr>\n",
              "      <th>parse_count</th>\n",
              "      <td>996558</td>\n",
              "      <td>996558</td>\n",
              "      <td>1</td>\n",
              "      <td>1</td>\n",
              "    </tr>\n",
              "    <tr>\n",
              "      <th>restaurant_name</th>\n",
              "      <td>996558</td>\n",
              "      <td>1833</td>\n",
              "      <td>Oxo_Tower_Restaurant_Bar_and_Brasserie</td>\n",
              "      <td>7018</td>\n",
              "    </tr>\n",
              "    <tr>\n",
              "      <th>rating_review</th>\n",
              "      <td>996558.0</td>\n",
              "      <td>11.0</td>\n",
              "      <td>5.0</td>\n",
              "      <td>431563.0</td>\n",
              "    </tr>\n",
              "    <tr>\n",
              "      <th>sample</th>\n",
              "      <td>996558</td>\n",
              "      <td>8</td>\n",
              "      <td>Positive</td>\n",
              "      <td>831692</td>\n",
              "    </tr>\n",
              "    <tr>\n",
              "      <th>review_id</th>\n",
              "      <td>996558</td>\n",
              "      <td>996556</td>\n",
              "      <td>review_761525247</td>\n",
              "      <td>2</td>\n",
              "    </tr>\n",
              "    <tr>\n",
              "      <th>title_review</th>\n",
              "      <td>996552</td>\n",
              "      <td>649951</td>\n",
              "      <td>Excellent</td>\n",
              "      <td>3873</td>\n",
              "    </tr>\n",
              "    <tr>\n",
              "      <th>review_preview</th>\n",
              "      <td>996552</td>\n",
              "      <td>996189</td>\n",
              "      <td>If you are looking for the fantastic rib eye o...</td>\n",
              "      <td>3</td>\n",
              "    </tr>\n",
              "    <tr>\n",
              "      <th>review_full</th>\n",
              "      <td>996546</td>\n",
              "      <td>996253</td>\n",
              "      <td>Except for waiting in a long line... the taste...</td>\n",
              "      <td>3</td>\n",
              "    </tr>\n",
              "    <tr>\n",
              "      <th>date</th>\n",
              "      <td>996546</td>\n",
              "      <td>4591</td>\n",
              "      <td>February 13, 2017</td>\n",
              "      <td>960</td>\n",
              "    </tr>\n",
              "    <tr>\n",
              "      <th>city</th>\n",
              "      <td>996546</td>\n",
              "      <td>1</td>\n",
              "      <td>London_England</td>\n",
              "      <td>996546</td>\n",
              "    </tr>\n",
              "    <tr>\n",
              "      <th>url_restaurant</th>\n",
              "      <td>996546</td>\n",
              "      <td>100736</td>\n",
              "      <td>https://www.tripadvisor.com/Restaurant_Review-...</td>\n",
              "      <td>10</td>\n",
              "    </tr>\n",
              "    <tr>\n",
              "      <th>author_id</th>\n",
              "      <td>996546</td>\n",
              "      <td>502226</td>\n",
              "      <td>UID_3787</td>\n",
              "      <td>368</td>\n",
              "    </tr>\n",
              "  </tbody>\n",
              "</table>\n",
              "</div>\n",
              "      <button class=\"colab-df-convert\" onclick=\"convertToInteractive('df-fa5de4d1-ee15-4f08-8f26-9ebb0e96d143')\"\n",
              "              title=\"Convert this dataframe to an interactive table.\"\n",
              "              style=\"display:none;\">\n",
              "        \n",
              "  <svg xmlns=\"http://www.w3.org/2000/svg\" height=\"24px\"viewBox=\"0 0 24 24\"\n",
              "       width=\"24px\">\n",
              "    <path d=\"M0 0h24v24H0V0z\" fill=\"none\"/>\n",
              "    <path d=\"M18.56 5.44l.94 2.06.94-2.06 2.06-.94-2.06-.94-.94-2.06-.94 2.06-2.06.94zm-11 1L8.5 8.5l.94-2.06 2.06-.94-2.06-.94L8.5 2.5l-.94 2.06-2.06.94zm10 10l.94 2.06.94-2.06 2.06-.94-2.06-.94-.94-2.06-.94 2.06-2.06.94z\"/><path d=\"M17.41 7.96l-1.37-1.37c-.4-.4-.92-.59-1.43-.59-.52 0-1.04.2-1.43.59L10.3 9.45l-7.72 7.72c-.78.78-.78 2.05 0 2.83L4 21.41c.39.39.9.59 1.41.59.51 0 1.02-.2 1.41-.59l7.78-7.78 2.81-2.81c.8-.78.8-2.07 0-2.86zM5.41 20L4 18.59l7.72-7.72 1.47 1.35L5.41 20z\"/>\n",
              "  </svg>\n",
              "      </button>\n",
              "      \n",
              "  <style>\n",
              "    .colab-df-container {\n",
              "      display:flex;\n",
              "      flex-wrap:wrap;\n",
              "      gap: 12px;\n",
              "    }\n",
              "\n",
              "    .colab-df-convert {\n",
              "      background-color: #E8F0FE;\n",
              "      border: none;\n",
              "      border-radius: 50%;\n",
              "      cursor: pointer;\n",
              "      display: none;\n",
              "      fill: #1967D2;\n",
              "      height: 32px;\n",
              "      padding: 0 0 0 0;\n",
              "      width: 32px;\n",
              "    }\n",
              "\n",
              "    .colab-df-convert:hover {\n",
              "      background-color: #E2EBFA;\n",
              "      box-shadow: 0px 1px 2px rgba(60, 64, 67, 0.3), 0px 1px 3px 1px rgba(60, 64, 67, 0.15);\n",
              "      fill: #174EA6;\n",
              "    }\n",
              "\n",
              "    [theme=dark] .colab-df-convert {\n",
              "      background-color: #3B4455;\n",
              "      fill: #D2E3FC;\n",
              "    }\n",
              "\n",
              "    [theme=dark] .colab-df-convert:hover {\n",
              "      background-color: #434B5C;\n",
              "      box-shadow: 0px 1px 3px 1px rgba(0, 0, 0, 0.15);\n",
              "      filter: drop-shadow(0px 1px 2px rgba(0, 0, 0, 0.3));\n",
              "      fill: #FFFFFF;\n",
              "    }\n",
              "  </style>\n",
              "\n",
              "      <script>\n",
              "        const buttonEl =\n",
              "          document.querySelector('#df-fa5de4d1-ee15-4f08-8f26-9ebb0e96d143 button.colab-df-convert');\n",
              "        buttonEl.style.display =\n",
              "          google.colab.kernel.accessAllowed ? 'block' : 'none';\n",
              "\n",
              "        async function convertToInteractive(key) {\n",
              "          const element = document.querySelector('#df-fa5de4d1-ee15-4f08-8f26-9ebb0e96d143');\n",
              "          const dataTable =\n",
              "            await google.colab.kernel.invokeFunction('convertToInteractive',\n",
              "                                                     [key], {});\n",
              "          if (!dataTable) return;\n",
              "\n",
              "          const docLinkHtml = 'Like what you see? Visit the ' +\n",
              "            '<a target=\"_blank\" href=https://colab.research.google.com/notebooks/data_table.ipynb>data table notebook</a>'\n",
              "            + ' to learn more about interactive tables.';\n",
              "          element.innerHTML = '';\n",
              "          dataTable['output_type'] = 'display_data';\n",
              "          await google.colab.output.renderOutput(dataTable, element);\n",
              "          const docLink = document.createElement('div');\n",
              "          docLink.innerHTML = docLinkHtml;\n",
              "          element.appendChild(docLink);\n",
              "        }\n",
              "      </script>\n",
              "    </div>\n",
              "  </div>\n",
              "  "
            ]
          },
          "metadata": {},
          "execution_count": 19
        }
      ]
    },
    {
      "cell_type": "code",
      "source": [
        "# checking for unique entries in each column\n",
        "df.nunique()"
      ],
      "metadata": {
        "colab": {
          "base_uri": "https://localhost:8080/"
        },
        "id": "DxBuFIUjlI_-",
        "outputId": "8e23f281-0460-4825-d5ab-72bdd424723e"
      },
      "execution_count": null,
      "outputs": [
        {
          "output_type": "execute_result",
          "data": {
            "text/plain": [
              "Unnamed: 0         996567\n",
              "parse_count        996558\n",
              "restaurant_name      1833\n",
              "rating_review          11\n",
              "sample                  8\n",
              "review_id          996556\n",
              "title_review       649951\n",
              "review_preview     996189\n",
              "review_full        996253\n",
              "date                 4591\n",
              "city                    1\n",
              "url_restaurant     100736\n",
              "author_id          502226\n",
              "dtype: int64"
            ]
          },
          "metadata": {},
          "execution_count": 20
        }
      ]
    },
    {
      "cell_type": "code",
      "source": [
        "print('Count of columns in the data is:  ', len(df.columns))\n",
        "print('Count of rows in the data is:  ', len(df))"
      ],
      "metadata": {
        "colab": {
          "base_uri": "https://localhost:8080/"
        },
        "id": "_sCdHSaqlLnL",
        "outputId": "e9b63111-0a55-4dc4-9ebf-8e26ad59f024"
      },
      "execution_count": null,
      "outputs": [
        {
          "output_type": "stream",
          "name": "stdout",
          "text": [
            "Count of columns in the data is:   13\n",
            "Count of rows in the data is:   996567\n"
          ]
        }
      ]
    },
    {
      "cell_type": "code",
      "source": [
        "df['rating_review'].unique()"
      ],
      "metadata": {
        "colab": {
          "base_uri": "https://localhost:8080/"
        },
        "id": "Ah-tsMvpl75Y",
        "outputId": "7ce7670c-c633-423d-c1bc-6576ba049d22"
      },
      "execution_count": null,
      "outputs": [
        {
          "output_type": "execute_result",
          "data": {
            "text/plain": [
              "array([5.0, 1.0, 4.0, 3.0, 2.0, '4.0', '5.0', '3.0', '2.0', '1.0',\n",
              "       'London_England', nan], dtype=object)"
            ]
          },
          "metadata": {},
          "execution_count": 23
        }
      ]
    }
  ],
  "metadata": {
    "colab": {
      "provenance": [],
      "mount_file_id": "1fgQkLZRMVEJU77bEAYJqIJFdZrOyRr2J",
      "authorship_tag": "ABX9TyNu9MOStzprZNIf2LxSi+68",
      "include_colab_link": true
    },
    "kernelspec": {
      "display_name": "Python 3",
      "name": "python3"
    },
    "language_info": {
      "name": "python"
    }
  },
  "nbformat": 4,
  "nbformat_minor": 0
}